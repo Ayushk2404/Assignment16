{
 "cells": [
  {
   "cell_type": "code",
   "execution_count": null,
   "metadata": {},
   "outputs": [],
   "source": [
    "#Q1\n",
    "'''\n",
    "A1. Flask is a micro web framework for Python, which means it provides the tools and libraries to build web applications without imposing too many restrictions or dependencies on developers. It is classified as a micro-framework because it keeps the core simple but extensible, allowing developers to add the features they need through various Flask extensions.\n",
    "\n",
    "Advantages of Flask Framework:\n",
    "\n",
    "1.Lightweight and Minimal: Flask has a small core and does not require any particular tools or libraries, allowing developers to choose the components they want to use.\n",
    "2.Flexibility: Flask allows developers to make their own choices regarding how to structure their applications and what tools to use.\n",
    "3.Easy to Get Started: Flask's simplicity makes it easy for beginners to get started with web development in Python.\n",
    "4.Extensible: Developers can add various extensions to Flask, enhancing its functionality for specific requirements.\n",
    "5.Large Community: Flask has a large and active community, which means there is extensive documentation, tutorials, and third-party packages available.\n",
    "6.Built-in Development Server: Flask comes with a built-in development server, making it easy to test and debug applications during development.\n",
    "'''"
   ]
  },
  {
   "cell_type": "code",
   "execution_count": null,
   "metadata": {},
   "outputs": [],
   "source": [
    "#Q2\n",
    "from flask import Flask\n",
    "app  = Flask(__name__)\n",
    "\n",
    "@app.route('/')\n",
    "def hello_world():\n",
    "    return 'Hello, World!'\n",
    "\n",
    "if __name__ == '__main__':\n",
    "    app.run()    \n",
    "    \n",
    "\n",
    "    "
   ]
  },
  {
   "cell_type": "markdown",
   "metadata": {},
   "source": [
    "![Beautiful Landscape](./image/pic.png)\n",
    "\n",
    "\n",
    "\n"
   ]
  },
  {
   "cell_type": "code",
   "execution_count": null,
   "metadata": {},
   "outputs": [],
   "source": [
    "#Q3\n",
    "'''\n",
    "A3. App routing in Flask refers to the process of mapping URLs to view functions that handle HTTP requests. In other words, it defines which function should be executed when a specific URL is accessed.\n",
    "\n",
    "In Flask, we use the @app.route() decorator to define routes. The @app.route() decorator is used to associate a URL with a Python function that will handle the request and return the response.\n",
    "\n",
    "For example, in the code below, the route /welcome is associated with the welcome() function, and the route / is associated with the index() function.'''\n",
    "\n",
    "from flask import Flask\n",
    "\n",
    "app = Flask(__name__)\n",
    "\n",
    "@app.route('/welcome')\n",
    "def welcome():\n",
    "    return 'Welcome to ABC Corporation'\n",
    "\n",
    "@app.route('/')\n",
    "def index():\n",
    "    return 'Company Name: ABC Corporation\\nLocation: India\\nContact Detail: 999-999-9999'\n",
    "\n",
    "if __name__ == '__main__':\n",
    "    app.run()"
   ]
  },
  {
   "cell_type": "code",
   "execution_count": null,
   "metadata": {},
   "outputs": [],
   "source": [
    "#Q4\n",
    "from flask import Flask\n",
    "\n",
    "app = Flask(__name__)\n",
    "\n",
    "@app.route('/welcome')\n",
    "def welcome():\n",
    "    return 'Welcome to ABC Corporation'\n",
    "\n",
    "@app.route('/')\n",
    "def index():\n",
    "    return 'Company Name: ABC Corporation<br>Location: India<br>Contact Detail: 999-999-9999'\n",
    "\n",
    "if __name__ == '__main__':\n",
    "    app.run()\n",
    "\n"
   ]
  },
  {
   "cell_type": "markdown",
   "metadata": {},
   "source": [
    "![Beautiful Landscape](./image/pic2.png)\n",
    "\n",
    "\n"
   ]
  },
  {
   "cell_type": "code",
   "execution_count": null,
   "metadata": {},
   "outputs": [],
   "source": [
    "#Q5\n",
    "from flask import Flask, url_for\n",
    "\n",
    "app = Flask(__name__)\n",
    "\n",
    "@app.route('/')\n",
    "def index():\n",
    "    return 'This is the homepage.'\n",
    "\n",
    "@app.route('/about')\n",
    "def about():\n",
    "    return 'This is the about page.'\n",
    "\n",
    "@app.route('/contact')\n",
    "def contact():\n",
    "    return 'This is the contact page.'\n",
    "\n",
    "if __name__ == '__main__':\n",
    "    with app.test_request_context():\n",
    "        # Generate URLs for the defined endpoints using url_for()\n",
    "        home_url = url_for('index')\n",
    "        about_url = url_for('about')\n",
    "        contact_url = url_for('contact')\n",
    "\n",
    "        print(\"Generated URLs:\")\n",
    "        print(f\"Homepage URL: {home_url}\")\n",
    "        print(f\"About Page URL: {about_url}\")\n",
    "        print(f\"Contact Page URL: {contact_url}\")\n",
    "    app.run()\n",
    "    "
   ]
  }
 ],
 "metadata": {
  "kernelspec": {
   "display_name": "Python 3",
   "language": "python",
   "name": "python3"
  },
  "language_info": {
   "codemirror_mode": {
    "name": "ipython",
    "version": 3
   },
   "file_extension": ".py",
   "mimetype": "text/x-python",
   "name": "python",
   "nbconvert_exporter": "python",
   "pygments_lexer": "ipython3",
   "version": "3.11.4"
  },
  "orig_nbformat": 4
 },
 "nbformat": 4,
 "nbformat_minor": 2
}
